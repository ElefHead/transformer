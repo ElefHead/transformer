{
 "metadata": {
  "language_info": {
   "codemirror_mode": {
    "name": "ipython",
    "version": 3
   },
   "file_extension": ".py",
   "mimetype": "text/x-python",
   "name": "python",
   "nbconvert_exporter": "python",
   "pygments_lexer": "ipython3",
   "version": "3.7.4-final"
  },
  "orig_nbformat": 2,
  "kernelspec": {
   "name": "python3",
   "display_name": "Python 3.7.4 64-bit ('transformer': pipenv)",
   "metadata": {
    "interpreter": {
     "hash": "02654df38138ebb0bb42a463144cea96af80ffbb447646e2638acacf05402537"
    }
   }
  }
 },
 "nbformat": 4,
 "nbformat_minor": 2,
 "cells": [
  {
   "cell_type": "code",
   "execution_count": 1,
   "metadata": {},
   "outputs": [],
   "source": [
    "from torchtext import data, datasets\n",
    "import spacy\n",
    "import torch\n",
    "import numpy as np\n",
    "\n",
    "import sys\n",
    "sys.path.append(\"..\")\n",
    "from enum import Enum\n",
    "\n",
    "from transformer.datasets import subsequent_mask"
   ]
  },
  {
   "cell_type": "code",
   "execution_count": 2,
   "metadata": {},
   "outputs": [],
   "source": [
    "def get_datasets_and_vocab(dataset_path, cache=True):\n",
    "    spacy_de = spacy.load('de')\n",
    "    spacy_en = spacy.load('en')\n",
    "\n",
    "    def tokenize_de(text: str):\n",
    "        return [tok.text for tok in spacy_de.tokenizer(text)]\n",
    "\n",
    "    def tokenize_en(text: str):\n",
    "        return [tok.text for tok in spacy_en.tokenizer(text)]\n",
    "\n",
    "    BOS_WORD = '<s>'\n",
    "    EOS_WORD = '</s>'\n",
    "    BLANK_WORD = \"<blank>\"\n",
    "\n",
    "    SRC = data.Field(tokenize=tokenize_de, pad_token=BLANK_WORD)\n",
    "    TGT = data.Field(tokenize=tokenize_en, init_token=BOS_WORD,\n",
    "                     eos_token=EOS_WORD, pad_token=BLANK_WORD)\n",
    "\n",
    "    MAX_LEN = 100\n",
    "    train, val, test = datasets.IWSLT.splits(\n",
    "        exts=('.de', '.en'), fields=(SRC, TGT),\n",
    "        root=dataset_path,\n",
    "        filter_pred=lambda x: len(vars(x)['src']) <= MAX_LEN and len(\n",
    "            vars(x)['trg']) <= MAX_LEN\n",
    "    )\n",
    "\n",
    "    MIN_FREQ = 2\n",
    "\n",
    "    SRC.build_vocab(train.src, min_freq=MIN_FREQ)\n",
    "    TGT.build_vocab(train.trg, min_freq=MIN_FREQ)\n",
    "\n",
    "    return SRC, TGT, train, val, test"
   ]
  },
  {
   "cell_type": "code",
   "execution_count": 3,
   "metadata": {},
   "outputs": [],
   "source": [
    "SRC, TGT, train, val, test = get_datasets_and_vocab(\n",
    "    dataset_path=\"../transformer/datasets/.data\"\n",
    ")"
   ]
  },
  {
   "cell_type": "code",
   "execution_count": 4,
   "metadata": {},
   "outputs": [],
   "source": [
    "class BatchConfig(object):\n",
    "    _instance = None\n",
    "    max_src_in_batch = 0\n",
    "    max_tgt_in_batch = 0\n",
    "\n",
    "    def __new__(cls):\n",
    "        if not cls._instance:\n",
    "            cls._instance = super(BatchConfig, cls).__new__(\n",
    "                cls\n",
    "            )\n",
    "        return cls._instance\n",
    "\n",
    "    def __repr__(self) -> str:\n",
    "        return f\"Max src in batch = {self.max_src_in_batch} \" +\\\n",
    "            f\"Max tgt in batch = {self.max_tgt_in_batch}\"\n",
    "\n",
    "\n",
    "def batch_size_fn(new, count, sofar):\n",
    "    \"Keep augmenting batch and calculate total number of tokens + padding.\"\n",
    "    bc = BatchConfig()\n",
    "    if count == 1:\n",
    "        bc.max_src_in_batch = 0\n",
    "        bc.max_tgt_in_batch = 0\n",
    "    bc.max_src_in_batch = max(bc.max_src_in_batch,  len(new.src))\n",
    "    bc.max_tgt_in_batch = max(bc.max_tgt_in_batch,  len(new.trg) + 2)\n",
    "    src_elements = count * bc.max_src_in_batch\n",
    "    tgt_elements = count * bc.max_tgt_in_batch\n",
    "    return max(src_elements, tgt_elements)"
   ]
  },
  {
   "cell_type": "code",
   "execution_count": 14,
   "metadata": {},
   "outputs": [],
   "source": [
    "class Batch:\n",
    "    \"Object for holding a batch of data with mask during training.\"\n",
    "\n",
    "    def __init__(self, src, trg=None, pad=0):\n",
    "        self.src = src\n",
    "        self.src_mask = (src != pad).unsqueeze(-2)\n",
    "        if trg is not None:\n",
    "            self.trg = trg[:, :-1]\n",
    "            self.trg_y = trg[:, 1:]\n",
    "            self.trg_mask = \\\n",
    "                self.make_std_mask(self.trg, pad)\n",
    "            self.ntokens = (self.trg_y != pad).data.sum()\n",
    "\n",
    "    @staticmethod\n",
    "    def make_std_mask(tgt, pad):\n",
    "        \"Create a mask to hide padding and future words.\"\n",
    "        tgt_mask = (tgt != pad).unsqueeze(-2)\n",
    "        tgt_mask = tgt_mask & torch.tensor(\n",
    "            subsequent_mask(tgt.size(-1)).type_as(tgt_mask.data))\n",
    "        return tgt_mask"
   ]
  },
  {
   "cell_type": "code",
   "execution_count": 15,
   "metadata": {},
   "outputs": [],
   "source": [
    "class IWSLTIterator(data.Iterator):\n",
    "    def create_batches(self):\n",
    "        if self.train:\n",
    "            def pool(d, random_shuffler):\n",
    "                for p in data.batch(d, self.batch_size * 100):\n",
    "                    p_batch = data.batch(\n",
    "                        sorted(p, key=self.sort_key),\n",
    "                        self.batch_size, self.batch_size_fn)\n",
    "                    for b in random_shuffler(list(p_batch)):\n",
    "                        yield b\n",
    "            self.batches = pool(self.data(), self.random_shuffler)\n",
    "\n",
    "        else:\n",
    "            self.batches = []\n",
    "            for b in data.batch(self.data(), self.batch_size,\n",
    "                                self.batch_size_fn):\n",
    "                self.batches.append(sorted(b, key=self.sort_key))\n",
    "\n",
    "def rebatch(pad_idx, batch):\n",
    "    \"Fix order in torchtext to match ours\"\n",
    "    src, trg = batch.src.transpose(0, 1), batch.trg.transpose(0, 1)\n",
    "    return Batch(src, trg, pad_idx)"
   ]
  },
  {
   "cell_type": "code",
   "execution_count": 16,
   "metadata": {},
   "outputs": [],
   "source": [
    "train_iter = IWSLTIterator(train, batch_size=3000, device=\"cpu\",\n",
    "                            repeat=False, sort_key=lambda x: (len(x.src), len(x.trg)),\n",
    "                            batch_size_fn=batch_size_fn, train=True)"
   ]
  },
  {
   "cell_type": "code",
   "execution_count": 17,
   "metadata": {},
   "outputs": [
    {
     "output_type": "stream",
     "name": "stdout",
     "text": [
      "torch.Size([150, 18]) torch.Size([150, 19])\ntorch.Size([157, 18]) torch.Size([157, 18])\ntorch.Size([78, 34]) torch.Size([78, 37])\ntorch.Size([73, 41]) torch.Size([73, 37])\ntorch.Size([96, 26]) torch.Size([96, 30])\ntorch.Size([150, 15]) torch.Size([150, 19])\ntorch.Size([250, 11]) torch.Size([250, 11])\ntorch.Size([120, 21]) torch.Size([120, 24])\ntorch.Size([103, 27]) torch.Size([103, 28])\ntorch.Size([142, 18]) torch.Size([142, 20])\ntorch.Size([58, 38]) torch.Size([58, 50])\n"
     ]
    }
   ],
   "source": [
    "for i, batch in enumerate(train_iter):\n",
    "    x = rebatch(TGT.vocab.stoi[\"<blank>\"], batch)\n",
    "    print(x.src.shape, x.trg.shape)\n",
    "    if i==10:\n",
    "        break"
   ]
  },
  {
   "cell_type": "code",
   "execution_count": 18,
   "metadata": {},
   "outputs": [],
   "source": [
    "bc = BatchConfig()"
   ]
  },
  {
   "cell_type": "code",
   "execution_count": 19,
   "metadata": {},
   "outputs": [
    {
     "output_type": "execute_result",
     "data": {
      "text/plain": [
       "Max src in batch = 100 Max tgt in batch = 102"
      ]
     },
     "metadata": {},
     "execution_count": 19
    }
   ],
   "source": [
    "bc"
   ]
  },
  {
   "cell_type": "code",
   "execution_count": null,
   "metadata": {},
   "outputs": [],
   "source": []
  }
 ]
}