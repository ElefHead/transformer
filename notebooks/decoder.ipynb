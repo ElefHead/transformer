{
 "metadata": {
  "language_info": {
   "codemirror_mode": {
    "name": "ipython",
    "version": 3
   },
   "file_extension": ".py",
   "mimetype": "text/x-python",
   "name": "python",
   "nbconvert_exporter": "python",
   "pygments_lexer": "ipython3",
   "version": "3.7.4-final"
  },
  "orig_nbformat": 2,
  "kernelspec": {
   "name": "python3",
   "display_name": "Python 3",
   "language": "python"
  }
 },
 "nbformat": 4,
 "nbformat_minor": 2,
 "cells": [
  {
   "cell_type": "code",
   "execution_count": 1,
   "metadata": {},
   "outputs": [],
   "source": [
    "import torch\n",
    "from torch import nn\n",
    "from torch.nn import functional as F\n",
    "\n",
    "import sys\n",
    "sys.path.append(\"..\")\n",
    "\n",
    "from transformer.modules import LayerNorm, clone_layer, Sublayer"
   ]
  },
  {
   "source": [
    "> The decoder is also composed of a stack of N = 6 identical layers. In addition to the two sub-layers in each encoder layer, the decoder inserts a third sub-layer, which performs multi-head attention over the output of the encoder stack. Similar to the encoder, we employ residual connections around each of the sub-layers, followed by layer normalization. We also modify the self-attention sub-layer in the decoder stack to prevent positions from attending to subsequent positions. This masking, combined with the fact that the output embeddings are offset by one-position, ensures that the predictions for the position _i_ can depend only on the known outputs at positions less than _i_."
   ],
   "cell_type": "markdown",
   "metadata": {}
  },
  {
   "cell_type": "code",
   "execution_count": 2,
   "metadata": {},
   "outputs": [],
   "source": [
    "class Decoder(nn.Module):\n",
    "    def __init__(self, layer: nn.Module, N: int):\n",
    "        super(Decoder, self).__init__()\n",
    "        self.layers = clone_layer(layer, N)\n",
    "        self.norm = LayerNorm(layer.size)\n",
    "\n",
    "    def forward(self, x: torch.Tensor,\n",
    "                memory: torch.Tensor,\n",
    "                src_mask: torch.Tensor,\n",
    "                tgt_mask: torch.Tensor):\n",
    "        for layer in self.layers:\n",
    "            x = layer(x, memory, src_mask, tgt_mask)\n",
    "        return self.norm(x)        "
   ]
  },
  {
   "cell_type": "code",
   "execution_count": 3,
   "metadata": {},
   "outputs": [],
   "source": [
    "class DecoderLayer(nn.Module):\n",
    "    def __init__(self, size,\n",
    "                 masked_self_attn: nn.Module,\n",
    "                 enc_attn: nn.Module,\n",
    "                 feed_forward: nn.Module,\n",
    "                 dropout_prob: float):\n",
    "        super(DecoderLayer, self).__init__()\n",
    "        self.size = size\n",
    "        self.masked_self_attn = masked_self_attn\n",
    "        self.enc_attn = enc_attn\n",
    "        self.feed_forward = feed_forward\n",
    "        self.sublayer = clone_layer(\n",
    "            Sublayer(size, dropout_prob=dropout_prob), 3)\n",
    "\n",
    "    def forward(self, x: torch.Tensor,\n",
    "                memory: torch.Tensor,\n",
    "                src_mask: torch.Tensor,\n",
    "                tgt_mask: torch.Tensor) -> torch.Tensor:\n",
    "        m = memory\n",
    "        x = self.sublayer[0](x, lambda x: self.masked_self_attn(x, x, x, tgt_mask))\n",
    "        x = self.sublayer[1](x, lambda x: self.enc_attn(x, m, m, src_mask))\n",
    "        return self.sublayer[2](x, self.feed_forward)"
   ]
  },
  {
   "source": [
    "<h2 align=\"center\">Encoder-Decoder Architecture</h2>\n",
    "<div align=\"center\">\n",
    "    <img src=\"images/decoder.png\" alt=\"Encoder decoder network\" />\n",
    "</div>\n",
    "\n",
    "<p align=\"left\">\n",
    "    Still don't have: \n",
    "    <ul>\n",
    "        <li>Positional Encoding / Positional Feed forward</li>\n",
    "        <li>Multi-head attention (self/masked etc)</li>\n",
    "        <li>\n",
    "            Masking functions\n",
    "            <ol>\n",
    "                <li>Encoder masks - To ensure we're not attending to paddings. Or maybe we just pack the inputs such that we don't need this.</li>\n",
    "                <li>Decoder masks - To ensure we're not looking ahead of current-1 timestep in the decoder during training.</li>\n",
    "            </ol>\n",
    "        </li>\n",
    "        <li>Embeddings</li>\n",
    "    </ul>\n",
    "</p>"
   ],
   "cell_type": "markdown",
   "metadata": {}
  },
  {
   "cell_type": "code",
   "execution_count": null,
   "metadata": {},
   "outputs": [],
   "source": [
    " "
   ]
  }
 ]
}